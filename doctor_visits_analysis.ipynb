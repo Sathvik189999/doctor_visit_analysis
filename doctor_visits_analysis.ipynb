{
 "cells": [
  {
   "cell_type": "code",
   "execution_count": 11,
   "id": "e3c65f5f",
   "metadata": {},
   "outputs": [],
   "source": [
    "#import the libraries required\n",
    "import pandas as pd\n",
    "import numpy as np\n",
    "import matplotlib.pyplot as plt\n",
    "import seaborn as sns"
   ]
  },
  {
   "cell_type": "code",
   "execution_count": 12,
   "id": "0e85b79a",
   "metadata": {},
   "outputs": [],
   "source": [
    "df=pd.read_csv(\"C:\\\\Users\\\\sathvik\\\\Downloads\\\\DoctorVisits - DA.csv\")"
   ]
  },
  {
   "cell_type": "code",
   "execution_count": 42,
   "id": "208ed903",
   "metadata": {
    "scrolled": false
   },
   "outputs": [
    {
     "data": {
      "text/html": [
       "<div>\n",
       "<style scoped>\n",
       "    .dataframe tbody tr th:only-of-type {\n",
       "        vertical-align: middle;\n",
       "    }\n",
       "\n",
       "    .dataframe tbody tr th {\n",
       "        vertical-align: top;\n",
       "    }\n",
       "\n",
       "    .dataframe thead th {\n",
       "        text-align: right;\n",
       "    }\n",
       "</style>\n",
       "<table border=\"1\" class=\"dataframe\">\n",
       "  <thead>\n",
       "    <tr style=\"text-align: right;\">\n",
       "      <th></th>\n",
       "      <th>Unnamed: 0</th>\n",
       "      <th>visits</th>\n",
       "      <th>gender</th>\n",
       "      <th>age</th>\n",
       "      <th>income</th>\n",
       "      <th>illness</th>\n",
       "      <th>reduced</th>\n",
       "      <th>health</th>\n",
       "      <th>private</th>\n",
       "      <th>freepoor</th>\n",
       "      <th>freerepat</th>\n",
       "      <th>nchronic</th>\n",
       "      <th>lchronic</th>\n",
       "    </tr>\n",
       "  </thead>\n",
       "  <tbody>\n",
       "    <tr>\n",
       "      <th>0</th>\n",
       "      <td>1</td>\n",
       "      <td>1</td>\n",
       "      <td>female</td>\n",
       "      <td>0.19</td>\n",
       "      <td>0.55</td>\n",
       "      <td>1</td>\n",
       "      <td>4</td>\n",
       "      <td>1</td>\n",
       "      <td>yes</td>\n",
       "      <td>no</td>\n",
       "      <td>no</td>\n",
       "      <td>no</td>\n",
       "      <td>no</td>\n",
       "    </tr>\n",
       "    <tr>\n",
       "      <th>1</th>\n",
       "      <td>2</td>\n",
       "      <td>1</td>\n",
       "      <td>female</td>\n",
       "      <td>0.19</td>\n",
       "      <td>0.45</td>\n",
       "      <td>1</td>\n",
       "      <td>2</td>\n",
       "      <td>1</td>\n",
       "      <td>yes</td>\n",
       "      <td>no</td>\n",
       "      <td>no</td>\n",
       "      <td>no</td>\n",
       "      <td>no</td>\n",
       "    </tr>\n",
       "    <tr>\n",
       "      <th>2</th>\n",
       "      <td>3</td>\n",
       "      <td>1</td>\n",
       "      <td>male</td>\n",
       "      <td>0.19</td>\n",
       "      <td>0.90</td>\n",
       "      <td>3</td>\n",
       "      <td>0</td>\n",
       "      <td>0</td>\n",
       "      <td>no</td>\n",
       "      <td>no</td>\n",
       "      <td>no</td>\n",
       "      <td>no</td>\n",
       "      <td>no</td>\n",
       "    </tr>\n",
       "    <tr>\n",
       "      <th>3</th>\n",
       "      <td>4</td>\n",
       "      <td>1</td>\n",
       "      <td>male</td>\n",
       "      <td>0.19</td>\n",
       "      <td>0.15</td>\n",
       "      <td>1</td>\n",
       "      <td>0</td>\n",
       "      <td>0</td>\n",
       "      <td>no</td>\n",
       "      <td>no</td>\n",
       "      <td>no</td>\n",
       "      <td>no</td>\n",
       "      <td>no</td>\n",
       "    </tr>\n",
       "    <tr>\n",
       "      <th>4</th>\n",
       "      <td>5</td>\n",
       "      <td>1</td>\n",
       "      <td>male</td>\n",
       "      <td>0.19</td>\n",
       "      <td>0.45</td>\n",
       "      <td>2</td>\n",
       "      <td>5</td>\n",
       "      <td>1</td>\n",
       "      <td>no</td>\n",
       "      <td>no</td>\n",
       "      <td>no</td>\n",
       "      <td>yes</td>\n",
       "      <td>no</td>\n",
       "    </tr>\n",
       "    <tr>\n",
       "      <th>5</th>\n",
       "      <td>6</td>\n",
       "      <td>1</td>\n",
       "      <td>female</td>\n",
       "      <td>0.19</td>\n",
       "      <td>0.35</td>\n",
       "      <td>5</td>\n",
       "      <td>1</td>\n",
       "      <td>9</td>\n",
       "      <td>no</td>\n",
       "      <td>no</td>\n",
       "      <td>no</td>\n",
       "      <td>yes</td>\n",
       "      <td>no</td>\n",
       "    </tr>\n",
       "    <tr>\n",
       "      <th>6</th>\n",
       "      <td>7</td>\n",
       "      <td>1</td>\n",
       "      <td>female</td>\n",
       "      <td>0.19</td>\n",
       "      <td>0.55</td>\n",
       "      <td>4</td>\n",
       "      <td>0</td>\n",
       "      <td>2</td>\n",
       "      <td>no</td>\n",
       "      <td>no</td>\n",
       "      <td>no</td>\n",
       "      <td>no</td>\n",
       "      <td>no</td>\n",
       "    </tr>\n",
       "    <tr>\n",
       "      <th>7</th>\n",
       "      <td>8</td>\n",
       "      <td>1</td>\n",
       "      <td>female</td>\n",
       "      <td>0.19</td>\n",
       "      <td>0.15</td>\n",
       "      <td>3</td>\n",
       "      <td>0</td>\n",
       "      <td>6</td>\n",
       "      <td>no</td>\n",
       "      <td>no</td>\n",
       "      <td>no</td>\n",
       "      <td>no</td>\n",
       "      <td>no</td>\n",
       "    </tr>\n",
       "    <tr>\n",
       "      <th>8</th>\n",
       "      <td>9</td>\n",
       "      <td>1</td>\n",
       "      <td>female</td>\n",
       "      <td>0.19</td>\n",
       "      <td>0.65</td>\n",
       "      <td>2</td>\n",
       "      <td>0</td>\n",
       "      <td>5</td>\n",
       "      <td>yes</td>\n",
       "      <td>no</td>\n",
       "      <td>no</td>\n",
       "      <td>no</td>\n",
       "      <td>no</td>\n",
       "    </tr>\n",
       "    <tr>\n",
       "      <th>9</th>\n",
       "      <td>10</td>\n",
       "      <td>1</td>\n",
       "      <td>male</td>\n",
       "      <td>0.19</td>\n",
       "      <td>0.15</td>\n",
       "      <td>1</td>\n",
       "      <td>0</td>\n",
       "      <td>0</td>\n",
       "      <td>yes</td>\n",
       "      <td>no</td>\n",
       "      <td>no</td>\n",
       "      <td>no</td>\n",
       "      <td>no</td>\n",
       "    </tr>\n",
       "    <tr>\n",
       "      <th>10</th>\n",
       "      <td>11</td>\n",
       "      <td>1</td>\n",
       "      <td>male</td>\n",
       "      <td>0.19</td>\n",
       "      <td>0.45</td>\n",
       "      <td>1</td>\n",
       "      <td>0</td>\n",
       "      <td>0</td>\n",
       "      <td>no</td>\n",
       "      <td>no</td>\n",
       "      <td>no</td>\n",
       "      <td>no</td>\n",
       "      <td>no</td>\n",
       "    </tr>\n",
       "    <tr>\n",
       "      <th>11</th>\n",
       "      <td>12</td>\n",
       "      <td>1</td>\n",
       "      <td>male</td>\n",
       "      <td>0.19</td>\n",
       "      <td>0.25</td>\n",
       "      <td>2</td>\n",
       "      <td>0</td>\n",
       "      <td>2</td>\n",
       "      <td>no</td>\n",
       "      <td>no</td>\n",
       "      <td>yes</td>\n",
       "      <td>no</td>\n",
       "      <td>no</td>\n",
       "    </tr>\n",
       "    <tr>\n",
       "      <th>12</th>\n",
       "      <td>13</td>\n",
       "      <td>2</td>\n",
       "      <td>male</td>\n",
       "      <td>0.19</td>\n",
       "      <td>0.55</td>\n",
       "      <td>3</td>\n",
       "      <td>13</td>\n",
       "      <td>1</td>\n",
       "      <td>no</td>\n",
       "      <td>no</td>\n",
       "      <td>no</td>\n",
       "      <td>yes</td>\n",
       "      <td>no</td>\n",
       "    </tr>\n",
       "  </tbody>\n",
       "</table>\n",
       "</div>"
      ],
      "text/plain": [
       "    Unnamed: 0  visits  gender   age  income  illness  reduced  health  \\\n",
       "0            1       1  female  0.19    0.55        1        4       1   \n",
       "1            2       1  female  0.19    0.45        1        2       1   \n",
       "2            3       1    male  0.19    0.90        3        0       0   \n",
       "3            4       1    male  0.19    0.15        1        0       0   \n",
       "4            5       1    male  0.19    0.45        2        5       1   \n",
       "5            6       1  female  0.19    0.35        5        1       9   \n",
       "6            7       1  female  0.19    0.55        4        0       2   \n",
       "7            8       1  female  0.19    0.15        3        0       6   \n",
       "8            9       1  female  0.19    0.65        2        0       5   \n",
       "9           10       1    male  0.19    0.15        1        0       0   \n",
       "10          11       1    male  0.19    0.45        1        0       0   \n",
       "11          12       1    male  0.19    0.25        2        0       2   \n",
       "12          13       2    male  0.19    0.55        3       13       1   \n",
       "\n",
       "   private freepoor freerepat nchronic lchronic  \n",
       "0      yes       no        no       no       no  \n",
       "1      yes       no        no       no       no  \n",
       "2       no       no        no       no       no  \n",
       "3       no       no        no       no       no  \n",
       "4       no       no        no      yes       no  \n",
       "5       no       no        no      yes       no  \n",
       "6       no       no        no       no       no  \n",
       "7       no       no        no       no       no  \n",
       "8      yes       no        no       no       no  \n",
       "9      yes       no        no       no       no  \n",
       "10      no       no        no       no       no  \n",
       "11      no       no       yes       no       no  \n",
       "12      no       no        no      yes       no  "
      ]
     },
     "execution_count": 42,
     "metadata": {},
     "output_type": "execute_result"
    }
   ],
   "source": [
    "df.head(13)"
   ]
  },
  {
   "cell_type": "code",
   "execution_count": 14,
   "id": "c7eb9384",
   "metadata": {},
   "outputs": [
    {
     "name": "stdout",
     "output_type": "stream",
     "text": [
      "<class 'pandas.core.frame.DataFrame'>\n",
      "RangeIndex: 5190 entries, 0 to 5189\n",
      "Data columns (total 13 columns):\n",
      " #   Column      Non-Null Count  Dtype  \n",
      "---  ------      --------------  -----  \n",
      " 0   Unnamed: 0  5190 non-null   int64  \n",
      " 1   visits      5190 non-null   int64  \n",
      " 2   gender      5190 non-null   object \n",
      " 3   age         5190 non-null   float64\n",
      " 4   income      5190 non-null   float64\n",
      " 5   illness     5190 non-null   int64  \n",
      " 6   reduced     5190 non-null   int64  \n",
      " 7   health      5190 non-null   int64  \n",
      " 8   private     5190 non-null   object \n",
      " 9   freepoor    5190 non-null   object \n",
      " 10  freerepat   5190 non-null   object \n",
      " 11  nchronic    5190 non-null   object \n",
      " 12  lchronic    5190 non-null   object \n",
      "dtypes: float64(2), int64(5), object(6)\n",
      "memory usage: 527.2+ KB\n"
     ]
    }
   ],
   "source": [
    "df.info()"
   ]
  },
  {
   "cell_type": "code",
   "execution_count": 15,
   "id": "3ad6503c",
   "metadata": {},
   "outputs": [
    {
     "data": {
      "text/html": [
       "<div>\n",
       "<style scoped>\n",
       "    .dataframe tbody tr th:only-of-type {\n",
       "        vertical-align: middle;\n",
       "    }\n",
       "\n",
       "    .dataframe tbody tr th {\n",
       "        vertical-align: top;\n",
       "    }\n",
       "\n",
       "    .dataframe thead th {\n",
       "        text-align: right;\n",
       "    }\n",
       "</style>\n",
       "<table border=\"1\" class=\"dataframe\">\n",
       "  <thead>\n",
       "    <tr style=\"text-align: right;\">\n",
       "      <th></th>\n",
       "      <th>Unnamed: 0</th>\n",
       "      <th>visits</th>\n",
       "      <th>age</th>\n",
       "      <th>income</th>\n",
       "      <th>illness</th>\n",
       "      <th>reduced</th>\n",
       "      <th>health</th>\n",
       "    </tr>\n",
       "  </thead>\n",
       "  <tbody>\n",
       "    <tr>\n",
       "      <th>count</th>\n",
       "      <td>5190.000000</td>\n",
       "      <td>5190.000000</td>\n",
       "      <td>5190.000000</td>\n",
       "      <td>5190.000000</td>\n",
       "      <td>5190.000000</td>\n",
       "      <td>5190.000000</td>\n",
       "      <td>5190.000000</td>\n",
       "    </tr>\n",
       "    <tr>\n",
       "      <th>mean</th>\n",
       "      <td>2595.500000</td>\n",
       "      <td>0.301734</td>\n",
       "      <td>0.406385</td>\n",
       "      <td>0.583160</td>\n",
       "      <td>1.431985</td>\n",
       "      <td>0.861850</td>\n",
       "      <td>1.217534</td>\n",
       "    </tr>\n",
       "    <tr>\n",
       "      <th>std</th>\n",
       "      <td>1498.368279</td>\n",
       "      <td>0.798134</td>\n",
       "      <td>0.204782</td>\n",
       "      <td>0.368907</td>\n",
       "      <td>1.384152</td>\n",
       "      <td>2.887628</td>\n",
       "      <td>2.124266</td>\n",
       "    </tr>\n",
       "    <tr>\n",
       "      <th>min</th>\n",
       "      <td>1.000000</td>\n",
       "      <td>0.000000</td>\n",
       "      <td>0.190000</td>\n",
       "      <td>0.000000</td>\n",
       "      <td>0.000000</td>\n",
       "      <td>0.000000</td>\n",
       "      <td>0.000000</td>\n",
       "    </tr>\n",
       "    <tr>\n",
       "      <th>25%</th>\n",
       "      <td>1298.250000</td>\n",
       "      <td>0.000000</td>\n",
       "      <td>0.220000</td>\n",
       "      <td>0.250000</td>\n",
       "      <td>0.000000</td>\n",
       "      <td>0.000000</td>\n",
       "      <td>0.000000</td>\n",
       "    </tr>\n",
       "    <tr>\n",
       "      <th>50%</th>\n",
       "      <td>2595.500000</td>\n",
       "      <td>0.000000</td>\n",
       "      <td>0.320000</td>\n",
       "      <td>0.550000</td>\n",
       "      <td>1.000000</td>\n",
       "      <td>0.000000</td>\n",
       "      <td>0.000000</td>\n",
       "    </tr>\n",
       "    <tr>\n",
       "      <th>75%</th>\n",
       "      <td>3892.750000</td>\n",
       "      <td>0.000000</td>\n",
       "      <td>0.620000</td>\n",
       "      <td>0.900000</td>\n",
       "      <td>2.000000</td>\n",
       "      <td>0.000000</td>\n",
       "      <td>2.000000</td>\n",
       "    </tr>\n",
       "    <tr>\n",
       "      <th>max</th>\n",
       "      <td>5190.000000</td>\n",
       "      <td>9.000000</td>\n",
       "      <td>0.720000</td>\n",
       "      <td>1.500000</td>\n",
       "      <td>5.000000</td>\n",
       "      <td>14.000000</td>\n",
       "      <td>12.000000</td>\n",
       "    </tr>\n",
       "  </tbody>\n",
       "</table>\n",
       "</div>"
      ],
      "text/plain": [
       "        Unnamed: 0       visits          age       income      illness  \\\n",
       "count  5190.000000  5190.000000  5190.000000  5190.000000  5190.000000   \n",
       "mean   2595.500000     0.301734     0.406385     0.583160     1.431985   \n",
       "std    1498.368279     0.798134     0.204782     0.368907     1.384152   \n",
       "min       1.000000     0.000000     0.190000     0.000000     0.000000   \n",
       "25%    1298.250000     0.000000     0.220000     0.250000     0.000000   \n",
       "50%    2595.500000     0.000000     0.320000     0.550000     1.000000   \n",
       "75%    3892.750000     0.000000     0.620000     0.900000     2.000000   \n",
       "max    5190.000000     9.000000     0.720000     1.500000     5.000000   \n",
       "\n",
       "           reduced       health  \n",
       "count  5190.000000  5190.000000  \n",
       "mean      0.861850     1.217534  \n",
       "std       2.887628     2.124266  \n",
       "min       0.000000     0.000000  \n",
       "25%       0.000000     0.000000  \n",
       "50%       0.000000     0.000000  \n",
       "75%       0.000000     2.000000  \n",
       "max      14.000000    12.000000  "
      ]
     },
     "execution_count": 15,
     "metadata": {},
     "output_type": "execute_result"
    }
   ],
   "source": [
    "df.describe()"
   ]
  },
  {
   "cell_type": "code",
   "execution_count": 16,
   "id": "675c7e2c",
   "metadata": {},
   "outputs": [
    {
     "data": {
      "text/plain": [
       "1    1638\n",
       "0    1554\n",
       "2     946\n",
       "3     542\n",
       "4     274\n",
       "5     236\n",
       "Name: illness, dtype: int64"
      ]
     },
     "execution_count": 16,
     "metadata": {},
     "output_type": "execute_result"
    }
   ],
   "source": [
    "df['illness'].value_counts()"
   ]
  },
  {
   "cell_type": "code",
   "execution_count": 17,
   "id": "75cd7835",
   "metadata": {},
   "outputs": [
    {
     "data": {
      "text/plain": [
       "female    2702\n",
       "male      2488\n",
       "Name: gender, dtype: int64"
      ]
     },
     "execution_count": 17,
     "metadata": {},
     "output_type": "execute_result"
    }
   ],
   "source": [
    "df['gender'].value_counts()"
   ]
  },
  {
   "cell_type": "code",
   "execution_count": 18,
   "id": "7b035720",
   "metadata": {},
   "outputs": [
    {
     "data": {
      "text/plain": [
       "0.25    1195\n",
       "0.90     589\n",
       "0.55     467\n",
       "0.35     462\n",
       "0.65     455\n",
       "0.75     441\n",
       "0.45     400\n",
       "1.10     361\n",
       "0.15     249\n",
       "1.50     215\n",
       "1.30     162\n",
       "0.06      80\n",
       "0.00      79\n",
       "0.01      35\n",
       "Name: income, dtype: int64"
      ]
     },
     "execution_count": 18,
     "metadata": {},
     "output_type": "execute_result"
    }
   ],
   "source": [
    "df['income'].value_counts()"
   ]
  },
  {
   "cell_type": "code",
   "execution_count": 19,
   "id": "1e207d2e",
   "metadata": {},
   "outputs": [
    {
     "data": {
      "text/plain": [
       "Text(0, 0.5, 'income')"
      ]
     },
     "execution_count": 19,
     "metadata": {},
     "output_type": "execute_result"
    },
    {
     "data": {
      "image/png": "[encoded data removed]",
      "text/plain": [
       "<Figure size 432x288 with 1 Axes>"
      ]
     },
     "metadata": {
      "needs_background": "light"
     },
     "output_type": "display_data"
    }
   ],
   "source": [
    "y=list(df.income)\n",
    "plt.boxplot(y)\n",
    "plt.ylabel(\"income\")"
   ]
  },
  {
   "cell_type": "code",
   "execution_count": 20,
   "id": "ebefea3d",
   "metadata": {},
   "outputs": [
    {
     "data": {
      "text/plain": [
       "<AxesSubplot:xlabel='gender', ylabel='Count'>"
      ]
     },
     "execution_count": 20,
     "metadata": {},
     "output_type": "execute_result"
    },
    {
     "data": {
      "image/png": "[encoded data removed]",
      "text/plain": [
       "<Figure size 432x288 with 1 Axes>"
      ]
     },
     "metadata": {
      "needs_background": "light"
     },
     "output_type": "display_data"
    }
   ],
   "source": [
    "sns.histplot(df.gender,bins=2)"
   ]
  },
  {
   "cell_type": "code",
   "execution_count": 21,
   "id": "b1c2262d",
   "metadata": {},
   "outputs": [
    {
     "data": {
      "text/plain": [
       "{0.19: 752,\n",
       " 0.22: 1213,\n",
       " 0.27: 523,\n",
       " 0.32: 301,\n",
       " 0.37: 146,\n",
       " 0.42: 126,\n",
       " 0.47: 181,\n",
       " 0.52: 222,\n",
       " 0.57: 273,\n",
       " 0.62: 316,\n",
       " 0.67: 315,\n",
       " 0.72: 822}"
      ]
     },
     "execution_count": 21,
     "metadata": {},
     "output_type": "execute_result"
    }
   ],
   "source": [
    "age_count={}\n",
    "for i in df['age']:\n",
    "    if i in age_count.keys():\n",
    "        age_count[i]+=1\n",
    "    else:\n",
    "        age_count[i]=1\n",
    "age_count"
   ]
  },
  {
   "cell_type": "code",
   "execution_count": 22,
   "id": "27a5d55a",
   "metadata": {},
   "outputs": [
    {
     "data": {
      "text/plain": [
       "<AxesSubplot:>"
      ]
     },
     "execution_count": 22,
     "metadata": {},
     "output_type": "execute_result"
    },
    {
     "data": {
      "image/png": "[encoded data removed]",
      "text/plain": [
       "<Figure size 432x288 with 2 Axes>"
      ]
     },
     "metadata": {
      "needs_background": "light"
     },
     "output_type": "display_data"
    }
   ],
   "source": [
    "sns.heatmap(df.isnull())"
   ]
  },
  {
   "cell_type": "code",
   "execution_count": 23,
   "id": "573df217",
   "metadata": {},
   "outputs": [
    {
     "data": {
      "text/html": [
       "<div>\n",
       "<style scoped>\n",
       "    .dataframe tbody tr th:only-of-type {\n",
       "        vertical-align: middle;\n",
       "    }\n",
       "\n",
       "    .dataframe tbody tr th {\n",
       "        vertical-align: top;\n",
       "    }\n",
       "\n",
       "    .dataframe thead th {\n",
       "        text-align: right;\n",
       "    }\n",
       "</style>\n",
       "<table border=\"1\" class=\"dataframe\">\n",
       "  <thead>\n",
       "    <tr style=\"text-align: right;\">\n",
       "      <th></th>\n",
       "      <th></th>\n",
       "      <th>Unnamed: 0</th>\n",
       "      <th>visits</th>\n",
       "      <th>age</th>\n",
       "      <th>income</th>\n",
       "      <th>reduced</th>\n",
       "      <th>health</th>\n",
       "    </tr>\n",
       "    <tr>\n",
       "      <th>gender</th>\n",
       "      <th>illness</th>\n",
       "      <th></th>\n",
       "      <th></th>\n",
       "      <th></th>\n",
       "      <th></th>\n",
       "      <th></th>\n",
       "      <th></th>\n",
       "    </tr>\n",
       "  </thead>\n",
       "  <tbody>\n",
       "    <tr>\n",
       "      <th rowspan=\"6\" valign=\"top\">female</th>\n",
       "      <th>0</th>\n",
       "      <td>3041.564065</td>\n",
       "      <td>0.106038</td>\n",
       "      <td>0.442769</td>\n",
       "      <td>0.516406</td>\n",
       "      <td>0.042710</td>\n",
       "      <td>0.443299</td>\n",
       "    </tr>\n",
       "    <tr>\n",
       "      <th>1</th>\n",
       "      <td>2363.038369</td>\n",
       "      <td>0.350120</td>\n",
       "      <td>0.431259</td>\n",
       "      <td>0.507722</td>\n",
       "      <td>1.083933</td>\n",
       "      <td>1.079137</td>\n",
       "    </tr>\n",
       "    <tr>\n",
       "      <th>2</th>\n",
       "      <td>2098.672316</td>\n",
       "      <td>0.442561</td>\n",
       "      <td>0.462373</td>\n",
       "      <td>0.497834</td>\n",
       "      <td>1.015066</td>\n",
       "      <td>1.514124</td>\n",
       "    </tr>\n",
       "    <tr>\n",
       "      <th>3</th>\n",
       "      <td>1953.609610</td>\n",
       "      <td>0.462462</td>\n",
       "      <td>0.490601</td>\n",
       "      <td>0.433964</td>\n",
       "      <td>1.246246</td>\n",
       "      <td>1.987988</td>\n",
       "    </tr>\n",
       "    <tr>\n",
       "      <th>4</th>\n",
       "      <td>1835.407186</td>\n",
       "      <td>0.622754</td>\n",
       "      <td>0.522635</td>\n",
       "      <td>0.411617</td>\n",
       "      <td>1.928144</td>\n",
       "      <td>2.658683</td>\n",
       "    </tr>\n",
       "    <tr>\n",
       "      <th>5</th>\n",
       "      <td>1753.455696</td>\n",
       "      <td>0.765823</td>\n",
       "      <td>0.574873</td>\n",
       "      <td>0.376392</td>\n",
       "      <td>2.702532</td>\n",
       "      <td>3.132911</td>\n",
       "    </tr>\n",
       "    <tr>\n",
       "      <th rowspan=\"6\" valign=\"top\">male</th>\n",
       "      <th>0</th>\n",
       "      <td>3356.234286</td>\n",
       "      <td>0.057143</td>\n",
       "      <td>0.322754</td>\n",
       "      <td>0.731977</td>\n",
       "      <td>0.057143</td>\n",
       "      <td>0.418286</td>\n",
       "    </tr>\n",
       "    <tr>\n",
       "      <th>1</th>\n",
       "      <td>2854.269900</td>\n",
       "      <td>0.238806</td>\n",
       "      <td>0.329838</td>\n",
       "      <td>0.700833</td>\n",
       "      <td>0.781095</td>\n",
       "      <td>0.886816</td>\n",
       "    </tr>\n",
       "    <tr>\n",
       "      <th>2</th>\n",
       "      <td>2406.600000</td>\n",
       "      <td>0.354217</td>\n",
       "      <td>0.363325</td>\n",
       "      <td>0.654651</td>\n",
       "      <td>1.067470</td>\n",
       "      <td>1.677108</td>\n",
       "    </tr>\n",
       "    <tr>\n",
       "      <th>3</th>\n",
       "      <td>2243.822967</td>\n",
       "      <td>0.354067</td>\n",
       "      <td>0.387081</td>\n",
       "      <td>0.616364</td>\n",
       "      <td>1.511962</td>\n",
       "      <td>1.602871</td>\n",
       "    </tr>\n",
       "    <tr>\n",
       "      <th>4</th>\n",
       "      <td>2129.943925</td>\n",
       "      <td>0.504673</td>\n",
       "      <td>0.416262</td>\n",
       "      <td>0.621682</td>\n",
       "      <td>1.710280</td>\n",
       "      <td>3.056075</td>\n",
       "    </tr>\n",
       "    <tr>\n",
       "      <th>5</th>\n",
       "      <td>2038.500000</td>\n",
       "      <td>0.910256</td>\n",
       "      <td>0.487308</td>\n",
       "      <td>0.570256</td>\n",
       "      <td>2.782051</td>\n",
       "      <td>3.538462</td>\n",
       "    </tr>\n",
       "  </tbody>\n",
       "</table>\n",
       "</div>"
      ],
      "text/plain": [
       "                 Unnamed: 0    visits       age    income   reduced    health\n",
       "gender illness                                                               \n",
       "female 0        3041.564065  0.106038  0.442769  0.516406  0.042710  0.443299\n",
       "       1        2363.038369  0.350120  0.431259  0.507722  1.083933  1.079137\n",
       "       2        2098.672316  0.442561  0.462373  0.497834  1.015066  1.514124\n",
       "       3        1953.609610  0.462462  0.490601  0.433964  1.246246  1.987988\n",
       "       4        1835.407186  0.622754  0.522635  0.411617  1.928144  2.658683\n",
       "       5        1753.455696  0.765823  0.574873  0.376392  2.702532  3.132911\n",
       "male   0        3356.234286  0.057143  0.322754  0.731977  0.057143  0.418286\n",
       "       1        2854.269900  0.238806  0.329838  0.700833  0.781095  0.886816\n",
       "       2        2406.600000  0.354217  0.363325  0.654651  1.067470  1.677108\n",
       "       3        2243.822967  0.354067  0.387081  0.616364  1.511962  1.602871\n",
       "       4        2129.943925  0.504673  0.416262  0.621682  1.710280  3.056075\n",
       "       5        2038.500000  0.910256  0.487308  0.570256  2.782051  3.538462"
      ]
     },
     "execution_count": 23,
     "metadata": {},
     "output_type": "execute_result"
    }
   ],
   "source": [
    "df.groupby(['gender','illness']).mean()"
   ]
  },
  {
   "cell_type": "code",
   "execution_count": 24,
   "id": "0edd4c6b",
   "metadata": {
    "scrolled": true
   },
   "outputs": [
    {
     "data": {
      "text/plain": [
       "gender\n",
       "female    2636\n",
       "male      1837\n",
       "Name: reduced, dtype: int64"
      ]
     },
     "execution_count": 24,
     "metadata": {},
     "output_type": "execute_result"
    }
   ],
   "source": [
    "Reduced_activity_days_=df.groupby('gender')['reduced'].sum()\n",
    "Reduced_activity_days_"
   ]
  },
  {
   "cell_type": "code",
   "execution_count": 37,
   "id": "93da22f6",
   "metadata": {},
   "outputs": [
    {
     "data": {
      "image/png": "[encoded data removed]",
      "text/plain": [
       "<Figure size 432x288 with 1 Axes>"
      ]
     },
     "metadata": {
      "needs_background": "light"
     },
     "output_type": "display_data"
    }
   ],
   "source": [
    "plt.scatter(x='age',y='visits',data=df)\n",
    "plt.xlabel('age')\n",
    "plt.ylabel('visits')\n",
    "plt.legend()\n",
    "plt.show()"
   ]
  },
  {
   "cell_type": "code",
   "execution_count": 35,
   "id": "67f0e11a",
   "metadata": {},
   "outputs": [
    {
     "data": {
      "text/plain": [
       "<AxesSubplot:>"
      ]
     },
     "execution_count": 35,
     "metadata": {},
     "output_type": "execute_result"
    },
    {
     "data": {
      "image/png": "[encoded data removed]",
      "text/plain": [
       "<Figure size 720x720 with 2 Axes>"
      ]
     },
     "metadata": {
      "needs_background": "light"
     },
     "output_type": "display_data"
    }
   ],
   "source": [
    "plt.figure(figsize=(10,10))\n",
    "sns.heatmap(df.corr(),cbar=True,annot=True,cmap='Blues')"
   ]
  },
  {
   "cell_type": "code",
   "execution_count": 27,
   "id": "029d0b39",
   "metadata": {},
   "outputs": [
    {
     "data": {
      "text/plain": [
       "Text(0, 0.5, 'visits')"
      ]
     },
     "execution_count": 27,
     "metadata": {},
     "output_type": "execute_result"
    },
    {
     "data": {
      "image/png": "[encoded data removed]",
      "text/plain": [
       "<Figure size 864x864 with 1 Axes>"
      ]
     },
     "metadata": {
      "needs_background": "light"
     },
     "output_type": "display_data"
    }
   ],
   "source": [
    "plt.figure(figsize=(12,12))\n",
    "plt.scatter(x='income',y='visits',data=df)\n",
    "plt.xlabel('income')\n",
    "plt.ylabel('visits')"
   ]
  },
  {
   "cell_type": "code",
   "execution_count": 28,
   "id": "6760bf92",
   "metadata": {},
   "outputs": [
    {
     "data": {
      "image/png": "[encoded data removed]",
      "text/plain": [
       "<Figure size 432x288 with 1 Axes>"
      ]
     },
     "metadata": {
      "needs_background": "light"
     },
     "output_type": "display_data"
    }
   ],
   "source": [
    "db = df.groupby('gender')['reduced'].sum().to_frame().reset_index()\n",
    "plt.bar(db['gender'], db['reduced'], color = ['blue', 'lightseagreen'])\n",
    "plt.xlabel('gender')\n",
    "plt.ylabel('reduced activity')\n",
    "plt.show()"
   ]
  },
  {
   "cell_type": "code",
   "execution_count": 29,
   "id": "9ad017c7",
   "metadata": {},
   "outputs": [
    {
     "data": {
      "image/png": "[encoded data removed]",
      "text/plain": [
       "<Figure size 432x432 with 1 Axes>"
      ]
     },
     "metadata": {},
     "output_type": "display_data"
    }
   ],
   "source": [
    "label = ['yes', 'no']\n",
    "Y = df[df['freepoor']=='yes']\n",
    "N = df[df['freepoor']=='no']\n",
    "x = [Y.shape[0],N.shape[0]]\n",
    "plt.figure(figsize=(6,6))\n",
    "plt.pie(x, labels=label)\n",
    "plt.title(\"Percentage of people having Government Health Insurance \")\n",
    "plt.legend()\n",
    "plt.show()"
   ]
  },
  {
   "cell_type": "code",
   "execution_count": 30,
   "id": "c6492e4b",
   "metadata": {},
   "outputs": [
    {
     "data": {
      "image/png": "[encoded data removed]",
      "text/plain": [
       "<Figure size 360x360 with 1 Axes>"
      ]
     },
     "metadata": {},
     "output_type": "display_data"
    }
   ],
   "source": [
    "label = ['yes', 'no']\n",
    "Y = df[df['nchronic']=='yes']\n",
    "N = df[df['nchronic']=='no']\n",
    "x = [Y.shape[0],N.shape[0]]\n",
    "plt.figure(figsize=(5,5))\n",
    "plt.pie(x, labels=label)\n",
    "plt.title(\"Percentage of people having nchronic \")\n",
    "plt.legend()\n",
    "plt.show()"
   ]
  },
  {
   "cell_type": "code",
   "execution_count": 31,
   "id": "00a4fb49",
   "metadata": {},
   "outputs": [
    {
     "data": {
      "image/png": "[encoded data removed]",
      "text/plain": [
       "<Figure size 360x360 with 1 Axes>"
      ]
     },
     "metadata": {},
     "output_type": "display_data"
    }
   ],
   "source": [
    "label = ['yes', 'no']\n",
    "Y = df[df['lchronic']=='yes']\n",
    "N = df[df['lchronic']=='no']\n",
    "x = [Y.shape[0],N.shape[0]]\n",
    "plt.figure(figsize=(5,5))\n",
    "plt.pie(x, labels=label)\n",
    "plt.title(\"Percentage of people having lchronic \")\n",
    "plt.legend()\n",
    "plt.show()"
   ]
  },
  {
   "cell_type": "code",
   "execution_count": 32,
   "id": "d8e914aa",
   "metadata": {},
   "outputs": [
    {
     "data": {
      "image/png": "[encoded data removed]",
      "text/plain": [
       "<Figure size 360x360 with 1 Axes>"
      ]
     },
     "metadata": {},
     "output_type": "display_data"
    }
   ],
   "source": [
    "Y = df[df['freerepat']=='yes']\n",
    "N = df[df['freerepat']=='no']\n",
    "x = [Y.shape[0],N.shape[0]]\n",
    "plt.figure(figsize=(5,5))\n",
    "plt.pie(x, labels=label)\n",
    "plt.title(\"Percentage of people having Government Health Insurance due to old age, disability or veteran status \")\n",
    "plt.legend()\n",
    "plt.show()"
   ]
  },
  {
   "cell_type": "code",
   "execution_count": 33,
   "id": "3609fa15",
   "metadata": {},
   "outputs": [
    {
     "data": {
      "image/png": "[encoded data removed]",
      "text/plain": [
       "<Figure size 360x360 with 1 Axes>"
      ]
     },
     "metadata": {},
     "output_type": "display_data"
    }
   ],
   "source": [
    "Y = df[df['private']=='yes']\n",
    "N = df[df['private']=='no']\n",
    "x = [Y.shape[0],N.shape[0]]\n",
    "plt.figure(figsize=(5,5))\n",
    "plt.pie(x, labels=label)\n",
    "plt.title(\"Percentage of people having Private Health Insurance \")\n",
    "plt.legend()\n",
    "plt.show()"
   ]
  },
  {
   "cell_type": "code",
   "execution_count": null,
   "id": "b5301637",
   "metadata": {},
   "outputs": [],
   "source": []
  }
 ],
 "metadata": {
  "kernelspec": {
   "display_name": "Python 3",
   "language": "python",
   "name": "python3"
  },
  "language_info": {
   "codemirror_mode": {
    "name": "ipython",
    "version": 3
   },
   "file_extension": ".py",
   "mimetype": "text/x-python",
   "name": "python",
   "nbconvert_exporter": "python",
   "pygments_lexer": "ipython3",
   "version": "3.8.8"
  }
 },
 "nbformat": 4,
 "nbformat_minor": 5
}
